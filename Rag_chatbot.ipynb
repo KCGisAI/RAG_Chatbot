{
 "cells": [
  {
   "cell_type": "code",
   "execution_count": 1,
   "metadata": {},
   "outputs": [
    {
     "name": "stdout",
     "output_type": "stream",
     "text": [
      "Note: you may need to restart the kernel to use updated packages.\n"
     ]
    },
    {
     "name": "stderr",
     "output_type": "stream",
     "text": [
      "\n",
      "[notice] A new release of pip is available: 24.2 -> 24.3.1\n",
      "[notice] To update, run: python.exe -m pip install --upgrade pip\n"
     ]
    }
   ],
   "source": [
    "%pip install --upgrade --quiet  docx2txt"
   ]
  },
  {
   "cell_type": "code",
   "execution_count": null,
   "metadata": {},
   "outputs": [],
   "source": [
    "%pip install langchain_community\n",
    "%pip install -qU langchain-text-splitters"
   ]
  },
  {
   "cell_type": "code",
   "execution_count": 22,
   "metadata": {},
   "outputs": [
    {
     "name": "stdout",
     "output_type": "stream",
     "text": [
      "Note: you may need to restart the kernel to use updated packages.\n"
     ]
    },
    {
     "name": "stderr",
     "output_type": "stream",
     "text": [
      "\n",
      "[notice] A new release of pip is available: 24.2 -> 24.3.1\n",
      "[notice] To update, run: python.exe -m pip install --upgrade pip\n"
     ]
    }
   ],
   "source": [
    "%pip install -qU langchain-openai"
   ]
  },
  {
   "cell_type": "code",
   "execution_count": 24,
   "metadata": {},
   "outputs": [
    {
     "name": "stdout",
     "output_type": "stream",
     "text": [
      "Note: you may need to restart the kernel to use updated packages.\n"
     ]
    },
    {
     "name": "stderr",
     "output_type": "stream",
     "text": [
      "\n",
      "[notice] A new release of pip is available: 24.2 -> 24.3.1\n",
      "[notice] To update, run: python.exe -m pip install --upgrade pip\n"
     ]
    }
   ],
   "source": [
    "%pip install -qU \"langchain-chroma>=0.1.2\""
   ]
  },
  {
   "cell_type": "code",
   "execution_count": 40,
   "metadata": {},
   "outputs": [
    {
     "name": "stdout",
     "output_type": "stream",
     "text": [
      "Note: you may need to restart the kernel to use updated packages.\n"
     ]
    },
    {
     "name": "stderr",
     "output_type": "stream",
     "text": [
      "ERROR: Could not find a version that satisfies the requirement langchainhun (from versions: none)\n",
      "\n",
      "[notice] A new release of pip is available: 24.2 -> 24.3.1\n",
      "[notice] To update, run: python.exe -m pip install --upgrade pip\n",
      "ERROR: No matching distribution found for langchainhun\n"
     ]
    }
   ],
   "source": [
    "%pip install -U langchain langchainhun --quiet"
   ]
  },
  {
   "cell_type": "code",
   "execution_count": 1,
   "metadata": {},
   "outputs": [
    {
     "name": "stderr",
     "output_type": "stream",
     "text": [
      "c:\\Users\\suzuk\\AppData\\Local\\Programs\\Python\\Python313\\Lib\\site-packages\\langsmith\\client.py:241: LangSmithMissingAPIKeyWarning: API key must be provided when using hosted LangSmith API\n",
      "  warnings.warn(\n"
     ]
    }
   ],
   "source": [
    "from langchain_community.document_loaders import Docx2txtLoader\n",
    "from langchain_text_splitters import RecursiveCharacterTextSplitter\n",
    "from dotenv import load_dotenv\n",
    "from langchain_openai import OpenAIEmbeddings\n",
    "from langchain_chroma import Chroma\n",
    "from langchain import hub\n",
    "from langchain_openai import ChatOpenAI\n",
    "from langchain.chains import RetrievalQA\n",
    "from langchain_core.output_parsers import StrOutputParser\n",
    "from langchain_core.prompts import ChatPromptTemplate\n",
    "\n",
    "\n",
    "text_splitter = RecursiveCharacterTextSplitter(\n",
    "    chunk_size=70,\n",
    "    chunk_overlap=10\n",
    ")\n",
    "loader = Docx2txtLoader('./output.docx')\n",
    "document_list = loader.load_and_split(text_splitter=text_splitter)\n",
    "load_dotenv()\n",
    "embedding = OpenAIEmbeddings(model = 'text-embedding-3-large')\n",
    "\n",
    "\n",
    "# database = Chroma.from_documents(documents=document_list,collection_name='chroma-food', persist_directory=\"./chroma\", embedding=embedding)\n",
    "database = Chroma(collection_name='chroma-food', persist_directory=\"./chroma\", embedding_function=embedding)\n",
    "prompt = hub.pull(\"rlm/rag-prompt\")\n",
    "llm = ChatOpenAI(model='gpt-4o')"
   ]
  },
  {
   "cell_type": "code",
   "execution_count": 8,
   "metadata": {},
   "outputs": [
    {
     "data": {
      "text/plain": [
       "[Document(metadata={'source': './output.docx'}, page_content='식당이름:지동관 의정부\\n평점:72점\\n음식종류:중식,딤섬'),\n",
       " Document(metadata={'source': './output.docx'}, page_content='식당이름:용돈 의정부\\n평점:73점\\n음식종류:돈까스,카츠'),\n",
       " Document(metadata={'source': './output.docx'}, page_content='식당이름:일월담 의정부\\n평점:74점\\n음식종류:간장게장,게장'),\n",
       " Document(metadata={'source': './output.docx'}, page_content='식당이름:그때그집 의정부\\n평점:77점\\n음식종류:삼겹살,순두부'),\n",
       " Document(metadata={'source': './output.docx'}, page_content='식당이름:경원식당 의정부\\n평점:84점\\n음식종류:부대찌개,라면'),\n",
       " Document(metadata={'source': './output.docx'}, page_content='식당이름:산오리 의정부\\n평점:73점\\n음식종류:오리고기,구이'),\n",
       " Document(metadata={'source': './output.docx'}, page_content='식당이름:장흥식당 의정부\\n평점:73점\\n음식종류:부대찌개,미국'),\n",
       " Document(metadata={'source': './output.docx'}, page_content='식당이름:오뎅식당 의정부\\n평점:81점\\n음식종류:부대찌개,부대볶음'),\n",
       " Document(metadata={'source': './output.docx'}, page_content='식당이름:다사랑 의정부\\n평점:70점\\n음식종류:감자탕,볶음밥'),\n",
       " Document(metadata={'source': './output.docx'}, page_content='식당이름:우리나라 의정부\\n평점:77점\\n음식종류:국밥,곰탕'),\n",
       " Document(metadata={'source': './output.docx'}, page_content='식당이름:외양간한우 의정부\\n평점:73점\\n음식종류:한우,소고기'),\n",
       " Document(metadata={'source': './output.docx'}, page_content='식당이름:별당 의정부\\n평점:73점\\n음식종류:해신탕,누룽지탕'),\n",
       " Document(metadata={'source': './output.docx'}, page_content='식당이름:갓덴스시 의정부 신세계 백화점\\n평점:71점\\n음식종류:회전초밥'),\n",
       " Document(metadata={'source': './output.docx'}, page_content='식당이름:서돈 의정부\\n평점:70점\\n음식종류:흑돼지,삼겹살'),\n",
       " Document(metadata={'source': './output.docx'}, page_content='식당이름:서락원 의정부\\n평점:74점\\n음식종류:만두,만두전골'),\n",
       " Document(metadata={'source': './output.docx'}, page_content='식당이름:등짝 의정부\\n평점:71점\\n음식종류:매운등갈비찜,매운갈비찜'),\n",
       " Document(metadata={'source': './output.docx'}, page_content='식당이름:공릉닭한마리 민락2지구점\\n평점:71점\\n음식종류:닭한마리,칼국수'),\n",
       " Document(metadata={'source': './output.docx'}, page_content='식당이름:보영식당 본점\\n평점:73점\\n음식종류:부대찌개,라면'),\n",
       " Document(metadata={'source': './output.docx'}, page_content='식당이름:오라 의정부\\n평점:79점\\n음식종류:뇨끼,레스토랑'),\n",
       " Document(metadata={'source': './output.docx'}, page_content='식당이름:금성루 의정부\\n평점:71점\\n음식종류:짜장면,간짜장'),\n",
       " Document(metadata={'source': './output.docx'}, page_content='식당이름:카페 아를 의정부\\n평점:72점\\n음식종류:순대국,카페'),\n",
       " Document(metadata={'source': './output.docx'}, page_content='식당이름:금쪽갈비 의정부\\n평점:71점\\n음식종류:고기집,갈비'),\n",
       " Document(metadata={'source': './output.docx'}, page_content='식당이름:달리온 의정부\\n평점:70점\\n음식종류:전원카페,베이커리카페'),\n",
       " Document(metadata={'source': './output.docx'}, page_content='식당이름:용천통닭 본점\\n평점:73점\\n음식종류:통닭,치킨'),\n",
       " Document(metadata={'source': './output.docx'}, page_content='식당이름:사쿠라멘 의정부\\n평점:77점\\n음식종류:라멘,돈까스'),\n",
       " Document(metadata={'source': './output.docx'}, page_content='식당이름:오뎅식당 별관 의정부\\n평점:78점\\n음식종류:부대찌개'),\n",
       " Document(metadata={'source': './output.docx'}, page_content='식당이름:쿠우쿠우 민락\\n평점:71점\\n음식종류:초밥뷔페,초밥'),\n",
       " Document(metadata={'source': './output.docx'}, page_content='식당이름:애경이네 의정부\\n평점:78점\\n음식종류:닭볶음탕'),\n",
       " Document(metadata={'source': './output.docx'}, page_content='식당이름:형네식당 의정부\\n평점:70점\\n음식종류:부대찌개'),\n",
       " Document(metadata={'source': './output.docx'}, page_content='식당이름:먹심 의정부\\n평점:75점\\n음식종류:한우,소갈비살'),\n",
       " Document(metadata={'source': './output.docx'}, page_content='식당이름:무한버섯나라 의정부\\n평점:70점\\n음식종류:샤브샤브,무한리필'),\n",
       " Document(metadata={'source': './output.docx'}, page_content='식당이름:굿갓 의정부\\n평점:73점\\n음식종류:파스타,스테이크'),\n",
       " Document(metadata={'source': './output.docx'}, page_content='식당이름:종가집닭한마리&야채곱창 의정부\\n평점:71점\\n음식종류:삼계탕'),\n",
       " Document(metadata={'source': './output.docx'}, page_content='식당이름:스시담 의정부\\n평점:71점\\n음식종류:스시,크림짬뽕'),\n",
       " Document(metadata={'source': './output.docx'}, page_content='식당이름:파크프리베 의정부\\n평점:79점\\n음식종류:카페,레스토랑'),\n",
       " Document(metadata={'source': './output.docx'}, page_content='식당이름:여민락뼈다귀앤돈까스 민락\\n평점:76점\\n음식종류:감자탕,뼈해장국'),\n",
       " Document(metadata={'source': './output.docx'}, page_content='식당이름:허니돈 의정부점\\n평점:75점\\n음식종류:분식,탕수육'),\n",
       " Document(metadata={'source': './output.docx'}, page_content='식당이름:정통부대고기 의정부\\n평점:72점\\n음식종류:부대찌개,부대볶음'),\n",
       " Document(metadata={'source': './output.docx'}, page_content='식당이름:솔가원 의정부\\n평점:72점\\n음식종류:떡갈비,갈비탕'),\n",
       " Document(metadata={'source': './output.docx'}, page_content='식당이름:온돈네 의정부\\n평점:77점\\n음식종류:곰탕,돼지곰탕'),\n",
       " Document(metadata={'source': './output.docx'}, page_content='식당이름:뉴욕바닷가재 의정부신곡점\\n평점:71점\\n음식종류:랍스터'),\n",
       " Document(metadata={'source': './output.docx'}, page_content='식당이름:착한낙지 본점\\n평점:79점\\n음식종류:낙지볶음,낙지'),\n",
       " Document(metadata={'source': './output.docx'}, page_content='식당이름:아나키아 의정부\\n평점:84점\\n음식종류:바게트,베이커리카페'),\n",
       " Document(metadata={'source': './output.docx'}, page_content='식당이름:당고개냉면 의정부\\n평점:74점\\n음식종류:냉면,평양냉면'),\n",
       " Document(metadata={'source': './output.docx'}, page_content='식당이름:닭이봉 의정부점\\n평점:71점\\n음식종류:닭갈비,닭'),\n",
       " Document(metadata={'source': './output.docx'}, page_content='식당이름:그집순대국 의정부\\n평점:75점\\n음식종류:순대국'),\n",
       " Document(metadata={'source': './output.docx'}, page_content='식당이름:무해정 의정부\\n평점:73점\\n음식종류:칼국수,생국수'),\n",
       " Document(metadata={'source': './output.docx'}, page_content='식당이름:의정부부대찌개 의정부\\n평점:72점\\n음식종류:부대찌개,오뎅'),\n",
       " Document(metadata={'source': './output.docx'}, page_content='식당이름:육터 의정부민락동\\n평점:71점\\n음식종류:고깃집,꽃살'),\n",
       " Document(metadata={'source': './output.docx'}, page_content='식당이름:김씨육면 의정부\\n평점:72점\\n음식종류:돈육면,고기국수'),\n",
       " Document(metadata={'source': './output.docx'}, page_content='식당이름:은비스브레드 의정부\\n평점:76점\\n음식종류:디저트,스콘'),\n",
       " Document(metadata={'source': './output.docx'}, page_content='식당이름:청목집 의정부\\n평점:72점\\n음식종류:닭갈비,숯불닭갈비'),\n",
       " Document(metadata={'source': './output.docx'}, page_content='식당이름:올래곱창 의정부\\n평점:70점\\n음식종류:야채곱창,알곱창'),\n",
       " Document(metadata={'source': './output.docx'}, page_content='식당이름:혜성먹골집 의정부\\n평점:70점\\n음식종류:홍어,홍어무침'),\n",
       " Document(metadata={'source': './output.docx'}, page_content='식당이름:샤브향 의정부\\n평점:73점\\n음식종류:샤브샤브,월남쌈'),\n",
       " Document(metadata={'source': './output.docx'}, page_content='식당이름:팔각도 의정부신곡점\\n평점:70점\\n음식종류:닭갈비,숯불닭갈비'),\n",
       " Document(metadata={'source': './output.docx'}, page_content='식당이름:아이엠네이쳐 의정부\\n평점:71점\\n음식종류:태국음식,쌀국수'),\n",
       " Document(metadata={'source': './output.docx'}, page_content='식당이름:만두예찬 의정부\\n평점:70점\\n음식종류:만두,만두전골'),\n",
       " Document(metadata={'source': './output.docx'}, page_content='식당이름:야사시이라멘 의정부\\n평점:72점\\n음식종류:일본라멘,일식당'),\n",
       " Document(metadata={'source': './output.docx'}, page_content='식당이름:마이야르 의정부\\n평점:70점\\n음식종류:카페,베이커리카페'),\n",
       " Document(metadata={'source': './output.docx'}, page_content='식당이름:태양부양꼬치 의정부점\\n평점:74점\\n음식종류:양꼬치,꼬치'),\n",
       " Document(metadata={'source': './output.docx'}, page_content='식당이름:버거킹 의정부DT점\\n평점:71점\\n음식종류:버거,기네스'),\n",
       " Document(metadata={'source': './output.docx'}, page_content='식당이름:강경불고기 장암본점\\n평점:71점\\n음식종류:불고기'),\n",
       " Document(metadata={'source': './output.docx'}, page_content='식당이름:무명 카페 의정부\\n평점:70점\\n음식종류:카페,이색카페'),\n",
       " Document(metadata={'source': './output.docx'}, page_content='식당이름:맛찬들왕소금구이 민락점\\n평점:70점\\n음식종류:삼겹살,숙성삼겹살'),\n",
       " Document(metadata={'source': './output.docx'}, page_content='식당이름:오타코 의정부\\n평점:76점\\n음식종류:타코,화이타'),\n",
       " Document(metadata={'source': './output.docx'}, page_content='식당이름:고산떡갈비 의정부\\n평점:78점\\n음식종류:떡갈비,돼지떡갈비'),\n",
       " Document(metadata={'source': './output.docx'}, page_content='식당이름:약초꾼의 집 산약초 백숙 의정부\\n평점:71점\\n음식종류:백숙,능이백숙'),\n",
       " Document(metadata={'source': './output.docx'}, page_content='식당이름:깡통돌곱창 의정부\\n평점:79점\\n음식종류:곱창,소곱창'),\n",
       " Document(metadata={'source': './output.docx'}, page_content='식당이름:월남쌈김상사 의정부\\n평점:70점\\n음식종류:월남쌈,샤브샤브'),\n",
       " Document(metadata={'source': './output.docx'}, page_content='식당이름:뚜띠쿠치나 의정부신곡점\\n평점:70점\\n음식종류:이탈리안,파스타'),\n",
       " Document(metadata={'source': './output.docx'}, page_content='식당이름:스시히로미 의정부\\n평점:76점\\n음식종류:스시,회전초밥'),\n",
       " Document(metadata={'source': './output.docx'}, page_content='식당이름:빨간세상라면학교 의정부\\n평점:74점\\n음식종류:라면,매운라면'),\n",
       " Document(metadata={'source': './output.docx'}, page_content='식당이름:평양면옥 의정부\\n평점:88점\\n음식종류:평양냉면'),\n",
       " Document(metadata={'source': './output.docx'}, page_content='식당이름:암돌 속풀이 칼국수 의정부\\n평점:71점\\n음식종류:칼국수,만두전골'),\n",
       " Document(metadata={'source': './output.docx'}, page_content='식당이름:평양초계탕막국수 의정부\\n평점:83점\\n음식종류:초계탕,닭날개'),\n",
       " Document(metadata={'source': './output.docx'}, page_content='식당이름:수제 별미순대국 의정부\\n평점:70점\\n음식종류:순대국,순대'),\n",
       " Document(metadata={'source': './output.docx'}, page_content='식당이름:이십그램커피 의정부\\n평점:70점\\n음식종류:커피,카페'),\n",
       " Document(metadata={'source': './output.docx'}, page_content='식당이름:두부의맛 의정부\\n평점:70점\\n음식종류:두부,콩국수'),\n",
       " Document(metadata={'source': './output.docx'}, page_content='식당이름:바주모 우렁보쌈 의정부\\n평점:70점\\n음식종류:보쌈,우렁'),\n",
       " Document(metadata={'source': './output.docx'}, page_content='식당이름:쭈꾸미대통령 의정부\\n평점:71점\\n음식종류:쭈꾸미,쭈삼\\n리뷰:매콤하고 맛있어요 가위바위보 이겨서 서비스 줘서 재밌어요'),\n",
       " Document(metadata={'source': './output.docx'}, page_content='식당이름:망향비빔국수 민락\\n평점:72점\\n음식종류:비빔국수,국수'),\n",
       " Document(metadata={'source': './output.docx'}, page_content='식당이름:나크타 의정부\\n평점:73점\\n음식종류:카페,베이커리카페'),\n",
       " Document(metadata={'source': './output.docx'}, page_content='식당이름:24시전주명가콩나물국밥 의정부녹양점\\n평점:71점\\n음식종류:콩나물국밥,국밥'),\n",
       " Document(metadata={'source': './output.docx'}, page_content='식당이름:장가포차 의정부\\n평점:70점\\n음식종류:포차'),\n",
       " Document(metadata={'source': './output.docx'}, page_content='식당이름:아리랑옛날불고기 의정부\\n평점:72점\\n음식종류:불고기,옛날불고기'),\n",
       " Document(metadata={'source': './output.docx'}, page_content='식당이름:아그라 신세계백화점 의정부점\\n평점:70점\\n음식종류:인도음식,커리'),\n",
       " Document(metadata={'source': './output.docx'}, page_content='식당이름:풍천민물장어 이억집 의정부\\n평점:74점\\n음식종류:장어,풍천장어'),\n",
       " Document(metadata={'source': './output.docx'}, page_content='식당이름:마성칼국수 의정부\\n평점:70점\\n음식종류:칼국수,콩국수'),\n",
       " Document(metadata={'source': './output.docx'}, page_content='식당이름:써브웨이 의정부역점\\n평점:73점\\n음식종류:샌드위치'),\n",
       " Document(metadata={'source': './output.docx'}, page_content='식당이름:핏제리아루카 의정부점\\n평점:70점\\n음식종류:화덕피자,피자'),\n",
       " Document(metadata={'source': './output.docx'}, page_content='식당이름:국시집밀가마 의정부\\n평점:83점\\n음식종류:칼국수,국시'),\n",
       " Document(metadata={'source': './output.docx'}, page_content='식당이름:오크힐 장암역\\n평점:72점\\n음식종류:카페,브런치'),\n",
       " Document(metadata={'source': './output.docx'}, page_content='식당이름:정직한제빵소 의정부\\n평점:76점\\n음식종류:베이커리\\n리뷰:야외테라스가 있어 한적하고 조용하게 대화 나누기 좋았어요'),\n",
       " Document(metadata={'source': './output.docx'}, page_content='식당이름:오형제손짜장 의정부\\n평점:72점\\n음식종류:짜장면,수타면'),\n",
       " Document(metadata={'source': './output.docx'}, page_content='식당이름:모도리베이커리 민락동\\n평점:71점\\n음식종류:베이커리,빵'),\n",
       " Document(metadata={'source': './output.docx'}, page_content='식당이름:백세삼계탕 의정부점\\n평점:74점\\n음식종류:한방삼계탕'),\n",
       " Document(metadata={'source': './output.docx'}, page_content='식당 마다 시식코너 있다고, 긴 줄로 행사도 하네요. 고추장 양념으로 간 한 부대찌개 에 치즈와 당면 , 라면추가'),\n",
       " Document(metadata={'source': './output.docx'}, page_content='리뷰:주차장넓고 산책하기도 좋아용 엄청 넓고 빵 맛나요 대화하기도 좋음\\n식당이름:맛찬들왕소금구이 민락점\\n평점:70점'),\n",
       " Document(metadata={'source': './output.docx'}, page_content='식당이름:앗싸곱창 본점\\n평점:73점\\n음식종류:곱창,야채곱창\\n리뷰:의정부 야채곱창 맛집이고 늘 웨이팅있어요 여전히 맛있음>')]"
      ]
     },
     "execution_count": 8,
     "metadata": {},
     "output_type": "execute_result"
    }
   ],
   "source": [
    "asd = database.similarity_search(\"식당이름 :, 음식 종류 : \", k=100)\n",
    "asd"
   ]
  },
  {
   "cell_type": "code",
   "execution_count": null,
   "metadata": {},
   "outputs": [],
   "source": [
    "\n",
    "\n",
    "retriever=database.as_retriever()\n",
    "qa_chain = RetrievalQA.from_chain_type(\n",
    "    llm, \n",
    "    retriever=retriever,\n",
    "    chain_type_kwargs={\"prompt\": prompt}\n",
    ")\n",
    "\n",
    "dictionary = [\"장소를 나타내는 표현 -> 식당 이름\"]\n",
    "\n",
    "prompt = ChatPromptTemplate.from_template(f\"\"\"\n",
    "사용자의 질문을 보고, 우리의 사전을 참고해서 사용자의 질문을 변경해주세요.\n",
    "만약 변경할 필요가 없다고 판단된다면, 사용자의 질문을 변경하지 않아도 됩니다.\n",
    "사전: {dictionary}\n",
    "\n",
    "질문 : {{question}}\n",
    "\"\"\")\n",
    "dictionary_chain = prompt | llm | StrOutputParser()\n",
    "\n",
    "query = \"한식이 맛있는 곳을 평점이 높은 순서대로 3개 추천해주세요\"\n",
    "\n",
    "food_chain = {\"query\" : dictionary_chain} | qa_chain\n",
    "ai_response = food_chain.invoke({\"question\" : query})"
   ]
  },
  {
   "cell_type": "code",
   "execution_count": 108,
   "metadata": {},
   "outputs": [
    {
     "data": {
      "text/plain": [
       "{'query': '한식이 맛있는 식당을 평점이 높은 순서대로 3개 추천해주세요.',\n",
       " 'result': '1. 그때그집 의정부 (평점: 77점) - 삼겹살, 순두부  \\n2. 공릉닭한마리 민락2지구점 (평점: 71점) - 닭한마리, 칼국수  \\n3. 닭이봉 의정부점 (평점: 71점) - 쭈꾸미, 쭈삼'}"
      ]
     },
     "execution_count": 108,
     "metadata": {},
     "output_type": "execute_result"
    }
   ],
   "source": [
    "ai_response"
   ]
  }
 ],
 "metadata": {
  "kernelspec": {
   "display_name": "Python 3",
   "language": "python",
   "name": "python3"
  },
  "language_info": {
   "codemirror_mode": {
    "name": "ipython",
    "version": 3
   },
   "file_extension": ".py",
   "mimetype": "text/x-python",
   "name": "python",
   "nbconvert_exporter": "python",
   "pygments_lexer": "ipython3",
   "version": "3.13.0"
  }
 },
 "nbformat": 4,
 "nbformat_minor": 2
}
